{
 "cells": [
  {
   "attachments": {},
   "cell_type": "markdown",
   "metadata": {},
   "source": [
    "<h1>Conect to database</h1>"
   ]
  },
  {
   "cell_type": "code",
   "execution_count": null,
   "metadata": {},
   "outputs": [],
   "source": [
    "import sqlite3 as sql\n",
    "\n",
    "db = 'database.db'\n",
    "\n",
    "conn = sql.connect(db)\n",
    "cursor = conn.cursor()\n",
    "cursor.execute(f\"SELECT * FROM log\")\n",
    "result = cursor.fetchall()\n",
    "conn.commit()\n",
    "conn.close()\n",
    "\n",
    "print(result)"
   ]
  },
  {
   "attachments": {},
   "cell_type": "markdown",
   "metadata": {},
   "source": [
    "<h1>Import all</h1>"
   ]
  },
  {
   "cell_type": "code",
   "execution_count": null,
   "metadata": {},
   "outputs": [
    {
     "ename": "",
     "evalue": "",
     "output_type": "error",
     "traceback": [
      "\u001b[1;31mRunning cells with 'c:\\Users\\EMMAN\\AppData\\Local\\Programs\\Python\\Python310\\python.exe' requires ipykernel package.\n",
      "\u001b[1;31mRun the following command to install 'ipykernel' into the Python environment. \n",
      "\u001b[1;31mCommand: 'c:/Users/EMMAN/AppData/Local/Programs/Python/Python310/python.exe -m pip install ipykernel -U --user --force-reinstall'"
     ]
    }
   ],
   "source": [
    "from cgitb import text\n",
    "from math import prod\n",
    "from msilib.schema import ComboBox\n",
    "import textwrap\n",
    "from tkinter import *\n",
    "from tkinter.filedialog import asksaveasfile\n",
    "import tkinter.ttk as ttk\n",
    "from tkinter import messagebox\n",
    "from turtle import back, width\n",
    "import modules.employers as employers\n",
    "import modules.plants as plants\n",
    "import modules.activities as activities\n",
    "import modules.areas as areas\n",
    "import modules.maintenances as maintenances\n",
    "from tkcalendar import Calendar\n",
    "from datetime import datetime\n",
    "from datetime import date\n",
    "from datetime import timedelta\n",
    "from modules.ui.scrollableFrame import *\n",
    "from modules import inventory\n",
    "from modules import sql\n",
    "from modules import workorders\n",
    "import locale\n",
    "import matplotlib.pyplot as plt\n",
    "from matplotlib.figure import Figure\n",
    "from matplotlib.backends.backend_tkagg import (FigureCanvasTkAgg, NavigationToolbar2Tk)\n",
    "import numpy as np"
   ]
  },
  {
   "attachments": {},
   "cell_type": "markdown",
   "metadata": {},
   "source": [
    "Import a product            "
   ]
  },
  {
   "cell_type": "code",
   "execution_count": null,
   "metadata": {},
   "outputs": [
    {
     "ename": "",
     "evalue": "",
     "output_type": "error",
     "traceback": [
      "\u001b[1;31mRunning cells with 'c:\\Users\\EMMAN\\AppData\\Local\\Programs\\Python\\Python310\\python.exe' requires ipykernel package.\n",
      "\u001b[1;31mRun the following command to install 'ipykernel' into the Python environment. \n",
      "\u001b[1;31mCommand: 'c:/Users/EMMAN/AppData/Local/Programs/Python/Python310/python.exe -m pip install ipykernel -U --user --force-reinstall'"
     ]
    }
   ],
   "source": [
    "product = inventory.Product(id = 1)\n",
    "print(product)"
   ]
  }
 ],
 "metadata": {
  "kernelspec": {
   "display_name": "Python 3",
   "language": "python",
   "name": "python3"
  },
  "language_info": {
   "name": "python",
   "version": "3.10.5 (tags/v3.10.5:f377153, Jun  6 2022, 16:14:13) [MSC v.1929 64 bit (AMD64)]"
  },
  "orig_nbformat": 4,
  "vscode": {
   "interpreter": {
    "hash": "7fd7b31466cec33339359cd0aa368637fe4400282c987b190d2d57b63ff2a48c"
   }
  }
 },
 "nbformat": 4,
 "nbformat_minor": 2
}
